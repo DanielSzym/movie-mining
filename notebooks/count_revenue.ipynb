{
 "cells": [
  {
   "cell_type": "code",
   "execution_count": 47,
   "metadata": {
    "scrolled": true
   },
   "outputs": [
    {
     "name": "stderr",
     "output_type": "stream",
     "text": [
      "C:\\Users\\Martin\\Anaconda3\\lib\\site-packages\\IPython\\core\\interactiveshell.py:2698: DtypeWarning: Columns (10) have mixed types. Specify dtype option on import or set low_memory=False.\n",
      "  interactivity=interactivity, compiler=compiler, result=result)\n"
     ]
    }
   ],
   "source": [
    "##import data\n",
    "import pandas as pd\n",
    "import numpy as np\n",
    "metadata = pd.read_csv(\"../data/raw/movies_metadata.csv\")"
   ]
  },
  {
   "cell_type": "code",
   "execution_count": 48,
   "metadata": {},
   "outputs": [
    {
     "name": "stdout",
     "output_type": "stream",
     "text": [
      "0        30000000.0\n",
      "1        65000000.0\n",
      "2               0.0\n",
      "3        16000000.0\n",
      "4               0.0\n",
      "5        60000000.0\n",
      "6        58000000.0\n",
      "7               0.0\n",
      "8        35000000.0\n",
      "9        58000000.0\n",
      "10       62000000.0\n",
      "11              0.0\n",
      "12              0.0\n",
      "13       44000000.0\n",
      "14       98000000.0\n",
      "15       52000000.0\n",
      "16       16500000.0\n",
      "17        4000000.0\n",
      "18       30000000.0\n",
      "19       60000000.0\n",
      "20       30250000.0\n",
      "21              0.0\n",
      "22       50000000.0\n",
      "23              0.0\n",
      "24        3600000.0\n",
      "25              0.0\n",
      "26       12000000.0\n",
      "27              0.0\n",
      "28       18000000.0\n",
      "29              0.0\n",
      "            ...    \n",
      "45436           0.0\n",
      "45437           0.0\n",
      "45438           0.0\n",
      "45439           0.0\n",
      "45440           0.0\n",
      "45441           0.0\n",
      "45442           0.0\n",
      "45443           0.0\n",
      "45444           0.0\n",
      "45445           0.0\n",
      "45446           0.0\n",
      "45447           0.0\n",
      "45448           0.0\n",
      "45449           0.0\n",
      "45450           0.0\n",
      "45451           0.0\n",
      "45452           0.0\n",
      "45453           0.0\n",
      "45454           0.0\n",
      "45455           0.0\n",
      "45456           0.0\n",
      "45457           0.0\n",
      "45458           0.0\n",
      "45459           0.0\n",
      "45460           0.0\n",
      "45461           0.0\n",
      "45462           0.0\n",
      "45463           0.0\n",
      "45464           0.0\n",
      "45465           0.0\n",
      "Name: budget, Length: 45466, dtype: float64\n"
     ]
    }
   ],
   "source": [
    "##convert budget to float variable, print results\n",
    "metadata.budget = metadata.budget.astype(np.float64)\n",
    "print (metadata.budget)"
   ]
  },
  {
   "cell_type": "code",
   "execution_count": 49,
   "metadata": {},
   "outputs": [
    {
     "name": "stdout",
     "output_type": "stream",
     "text": [
      "7408\n"
     ]
    }
   ],
   "source": [
    "##count valid revenue data\n",
    "i = 0\n",
    "for row in metadata.revenue:\n",
    "    if row > 0:\n",
    "        i = i+1\n",
    " \n",
    "\n",
    "print(i)"
   ]
  },
  {
   "cell_type": "code",
   "execution_count": 50,
   "metadata": {},
   "outputs": [
    {
     "name": "stdout",
     "output_type": "stream",
     "text": [
      "Index(['adult', 'belongs_to_collection', 'budget', 'genres', 'homepage', 'id',\n",
      "       'imdb_id', 'original_language', 'original_title', 'overview',\n",
      "       'popularity', 'poster_path', 'production_companies',\n",
      "       'production_countries', 'release_date', 'revenue', 'runtime',\n",
      "       'spoken_languages', 'status', 'tagline', 'title', 'video',\n",
      "       'vote_average', 'vote_count'],\n",
      "      dtype='object')\n"
     ]
    }
   ],
   "source": [
    "##metadata.loc[:, 'adult':'revenue']\n",
    "print(metadata.keys())"
   ]
  },
  {
   "cell_type": "code",
   "execution_count": 54,
   "metadata": {},
   "outputs": [],
   "source": [
    "#focus on columns needed.\n",
    "metadata = metadata.loc[:, [ 'id', 'imdb_id', 'budget','genres','revenue', 'release_date', 'belongs_to_collection'  ]]\n",
    "#print(metadata.head())"
   ]
  },
  {
   "cell_type": "code",
   "execution_count": 21,
   "metadata": {},
   "outputs": [
    {
     "name": "stdout",
     "output_type": "stream",
     "text": [
      "8890\n"
     ]
    }
   ],
   "source": [
    "#count valid budget datasets\n",
    "m = 0\n",
    "for row in metadata.budget:\n",
    "    if row > 0:\n",
    "        m = m+1\n",
    " \n",
    "\n",
    "print(m)"
   ]
  },
  {
   "cell_type": "code",
   "execution_count": 52,
   "metadata": {},
   "outputs": [
    {
     "name": "stdout",
     "output_type": "stream",
     "text": [
      "           id    imdb_id       budget  \\\n",
      "0         862  tt0114709   30000000.0   \n",
      "1        8844  tt0113497   65000000.0   \n",
      "3       31357  tt0114885   16000000.0   \n",
      "5         949  tt0113277   60000000.0   \n",
      "8        9091  tt0114576   35000000.0   \n",
      "9         710  tt0113189   58000000.0   \n",
      "10       9087  tt0112346   62000000.0   \n",
      "13      10858  tt0113987   44000000.0   \n",
      "14       1408  tt0112760   98000000.0   \n",
      "15        524  tt0112641   52000000.0   \n",
      "16       4584  tt0114388   16500000.0   \n",
      "17          5  tt0113101    4000000.0   \n",
      "18       9273  tt0112281   30000000.0   \n",
      "19      11517  tt0113845   60000000.0   \n",
      "20       8012  tt0113161   30250000.0   \n",
      "22       9691  tt0112401   50000000.0   \n",
      "24        451  tt0113627    3600000.0   \n",
      "26       9263  tt0114011   12000000.0   \n",
      "28        902  tt0112682   18000000.0   \n",
      "31         63  tt0114746   29500000.0   \n",
      "33       9598  tt0112431   30000000.0   \n",
      "35        687  tt0112818   11000000.0   \n",
      "43       9312  tt0113855   18000000.0   \n",
      "44        577  tt0114681   20000000.0   \n",
      "45      11861  tt0113347   10000000.0   \n",
      "46        807  tt0114369   33000000.0   \n",
      "47      10530  tt0114148   55000000.0   \n",
      "49        629  tt0114814    6000000.0   \n",
      "51      11448  tt0113819   15000000.0   \n",
      "68      10634  tt0113118    3500000.0   \n",
      "...       ...        ...          ...   \n",
      "44140   52891  tt1124396    3000000.0   \n",
      "44152   69976  tt1620464    2500000.0   \n",
      "44166  100791  tt2288121    4000000.0   \n",
      "44249   43228  tt0050530      82000.0   \n",
      "44274  281338  tt3450958  152000000.0   \n",
      "44282  293768  tt1458169   21000000.0   \n",
      "44337  339964  tt2239822  197471676.0   \n",
      "44383  272610  tt3266724    7000000.0   \n",
      "44426   66526  tt0220656    7400000.0   \n",
      "44428   72663  tt1227165    2000000.0   \n",
      "44557  326011  tt4187590   10000000.0   \n",
      "44580    8453  tt0439662    5300000.0   \n",
      "44632  341013  tt2406566   30000000.0   \n",
      "44678  374720  tt5013056  100000000.0   \n",
      "44711   14570  tt0089243    8500000.0   \n",
      "44791  434119  tt5606538    8520000.0   \n",
      "44821   10991  tt0235679   16000000.0   \n",
      "44842  335988  tt3371366  260000000.0   \n",
      "44848  159447  tt2592500    2000000.0   \n",
      "44850   75438  tt1820462    2000000.0   \n",
      "44856   57701  tt1820555    3000000.0   \n",
      "44970   26147  tt0453365    2196531.0   \n",
      "45014  353491  tt1648190   60000000.0   \n",
      "45139  378236  tt4877122   50000000.0   \n",
      "45167  395834  tt5362988   11000000.0   \n",
      "45250   24049  tt0479751   12000000.0   \n",
      "45399  280422  tt3805180     750000.0   \n",
      "45409   62757  tt0933361     800000.0   \n",
      "45412   63281  tt1718881    2000000.0   \n",
      "45422   63898  tt1110037    5000000.0   \n",
      "\n",
      "                                                  genres      revenue  \\\n",
      "0      [{'id': 16, 'name': 'Animation'}, {'id': 35, '...  373554033.0   \n",
      "1      [{'id': 12, 'name': 'Adventure'}, {'id': 14, '...  262797249.0   \n",
      "3      [{'id': 35, 'name': 'Comedy'}, {'id': 18, 'nam...   81452156.0   \n",
      "5      [{'id': 28, 'name': 'Action'}, {'id': 80, 'nam...  187436818.0   \n",
      "8      [{'id': 28, 'name': 'Action'}, {'id': 12, 'nam...   64350171.0   \n",
      "9      [{'id': 12, 'name': 'Adventure'}, {'id': 28, '...  352194034.0   \n",
      "10     [{'id': 35, 'name': 'Comedy'}, {'id': 18, 'nam...  107879496.0   \n",
      "13     [{'id': 36, 'name': 'History'}, {'id': 18, 'na...   13681765.0   \n",
      "14     [{'id': 28, 'name': 'Action'}, {'id': 12, 'nam...   10017322.0   \n",
      "15     [{'id': 18, 'name': 'Drama'}, {'id': 80, 'name...  116112375.0   \n",
      "16     [{'id': 18, 'name': 'Drama'}, {'id': 10749, 'n...  135000000.0   \n",
      "17     [{'id': 80, 'name': 'Crime'}, {'id': 35, 'name...    4300000.0   \n",
      "18     [{'id': 80, 'name': 'Crime'}, {'id': 35, 'name...  212385533.0   \n",
      "19     [{'id': 28, 'name': 'Action'}, {'id': 35, 'nam...   35431113.0   \n",
      "20     [{'id': 35, 'name': 'Comedy'}, {'id': 53, 'nam...  115101622.0   \n",
      "22     [{'id': 28, 'name': 'Action'}, {'id': 12, 'nam...   30303072.0   \n",
      "24     [{'id': 18, 'name': 'Drama'}, {'id': 10749, 'n...   49800000.0   \n",
      "26     [{'id': 35, 'name': 'Comedy'}, {'id': 18, 'nam...   27400000.0   \n",
      "28     [{'id': 14, 'name': 'Fantasy'}, {'id': 878, 'n...    1738611.0   \n",
      "31     [{'id': 878, 'name': 'Science Fiction'}, {'id'...  168840000.0   \n",
      "33     [{'id': 14, 'name': 'Fantasy'}, {'id': 18, 'na...  254134910.0   \n",
      "35                         [{'id': 18, 'name': 'Drama'}]   39363635.0   \n",
      "43     [{'id': 28, 'name': 'Action'}, {'id': 14, 'nam...  122195920.0   \n",
      "44     [{'id': 14, 'name': 'Fantasy'}, {'id': 18, 'na...   21284514.0   \n",
      "45     [{'id': 18, 'name': 'Drama'}, {'id': 10749, 'n...   23574130.0   \n",
      "46     [{'id': 80, 'name': 'Crime'}, {'id': 9648, 'na...  327311859.0   \n",
      "47     [{'id': 12, 'name': 'Adventure'}, {'id': 16, '...  346079773.0   \n",
      "49     [{'id': 18, 'name': 'Drama'}, {'id': 80, 'name...   23341568.0   \n",
      "51     [{'id': 35, 'name': 'Comedy'}, {'id': 10749, '...    6700000.0   \n",
      "68                        [{'id': 35, 'name': 'Comedy'}]   28215918.0   \n",
      "...                                                  ...          ...   \n",
      "44140                     [{'id': 35, 'name': 'Comedy'}]    9713500.0   \n",
      "44152                                                 []    1477030.0   \n",
      "44166  [{'id': 35, 'name': 'Comedy'}, {'id': 14, 'nam...    9938268.0   \n",
      "44249  [{'id': 18, 'name': 'Drama'}, {'id': 14, 'name...    2000000.0   \n",
      "44274  [{'id': 18, 'name': 'Drama'}, {'id': 878, 'nam...  369907963.0   \n",
      "44282  [{'id': 18, 'name': 'Drama'}, {'id': 53, 'name...   24527158.0   \n",
      "44337  [{'id': 12, 'name': 'Adventure'}, {'id': 878, ...   90024292.0   \n",
      "44383  [{'id': 18, 'name': 'Drama'}, {'id': 80, 'name...     855450.0   \n",
      "44426  [{'id': 10769, 'name': 'Foreign'}, {'id': 53, ...   22000000.0   \n",
      "44428  [{'id': 18, 'name': 'Drama'}, {'id': 10749, 'n...     273137.0   \n",
      "44557  [{'id': 10752, 'name': 'War'}, {'id': 28, 'nam...    7547762.0   \n",
      "44580  [{'id': 28, 'name': 'Action'}, {'id': 18, 'nam...   22175908.0   \n",
      "44632  [{'id': 28, 'name': 'Action'}, {'id': 53, 'nam...   90007945.0   \n",
      "44678  [{'id': 28, 'name': 'Action'}, {'id': 18, 'nam...  519876949.0   \n",
      "44711  [{'id': 28, 'name': 'Action'}, {'id': 18, 'nam...    5730596.0   \n",
      "44791  [{'id': 28, 'name': 'Action'}, {'id': 18, 'nam...   56100000.0   \n",
      "44821  [{'id': 12, 'name': 'Adventure'}, {'id': 14, '...   68411275.0   \n",
      "44842  [{'id': 28, 'name': 'Action'}, {'id': 878, 'na...  604942143.0   \n",
      "44848  [{'id': 35, 'name': 'Comedy'}, {'id': 18, 'nam...   11666088.0   \n",
      "44850                     [{'id': 35, 'name': 'Comedy'}]    8000000.0   \n",
      "44856  [{'id': 35, 'name': 'Comedy'}, {'id': 10749, '...    1957000.0   \n",
      "44970  [{'id': 35, 'name': 'Comedy'}, {'id': 10749, '...    2411594.0   \n",
      "45014  [{'id': 28, 'name': 'Action'}, {'id': 37, 'nam...   71000000.0   \n",
      "45139  [{'id': 35, 'name': 'Comedy'}, {'id': 10751, '...   66913939.0   \n",
      "45167  [{'id': 28, 'name': 'Action'}, {'id': 80, 'nam...  184770205.0   \n",
      "45250  [{'id': 28, 'name': 'Action'}, {'id': 35, 'nam...   19000000.0   \n",
      "45399  [{'id': 80, 'name': 'Crime'}, {'id': 35, 'name...          3.0   \n",
      "45409  [{'id': 35, 'name': 'Comedy'}, {'id': 18, 'nam...    1328612.0   \n",
      "45412  [{'id': 10749, 'name': 'Romance'}, {'id': 18, ...    1268793.0   \n",
      "45422  [{'id': 28, 'name': 'Action'}, {'id': 35, 'nam...    1413000.0   \n",
      "\n",
      "      release_date                              belongs_to_collection  \n",
      "0       1995-10-30  {'id': 10194, 'name': 'Toy Story Collection', ...  \n",
      "1       1995-12-15                                                NaN  \n",
      "3       1995-12-22                                                NaN  \n",
      "5       1995-12-15                                                NaN  \n",
      "8       1995-12-22                                                NaN  \n",
      "9       1995-11-16  {'id': 645, 'name': 'James Bond Collection', '...  \n",
      "10      1995-11-17                                                NaN  \n",
      "13      1995-12-22                                                NaN  \n",
      "14      1995-12-22                                                NaN  \n",
      "15      1995-11-22                                                NaN  \n",
      "16      1995-12-13                                                NaN  \n",
      "17      1995-12-09                                                NaN  \n",
      "18      1995-11-10  {'id': 3167, 'name': 'Ace Ventura Collection',...  \n",
      "19      1995-11-21                                                NaN  \n",
      "20      1995-10-20  {'id': 91698, 'name': 'Chili Palmer Collection...  \n",
      "22      1995-10-06                                                NaN  \n",
      "24      1995-10-27                                                NaN  \n",
      "26      1995-10-20                                                NaN  \n",
      "28      1995-05-16                                                NaN  \n",
      "31      1995-12-29                                                NaN  \n",
      "33      1995-07-18  {'id': 9435, 'name': 'Babe Collection', 'poste...  \n",
      "35      1995-12-29                                                NaN  \n",
      "43      1995-08-18  {'id': 9818, 'name': 'Mortal Kombat Collection...  \n",
      "44      1995-05-20                                                NaN  \n",
      "45      1995-10-06                                                NaN  \n",
      "46      1995-09-22                                                NaN  \n",
      "47      1995-06-14  {'id': 136214, 'name': 'Pocahontas Collection'...  \n",
      "49      1995-07-19                                                NaN  \n",
      "51      1995-09-13                                                NaN  \n",
      "68      1995-04-26  {'id': 43563, 'name': 'Friday Collection', 'po...  \n",
      "...            ...                                                ...  \n",
      "44140   2008-09-18                                                NaN  \n",
      "44152   2010-05-06                                                NaN  \n",
      "44166   2012-03-15                                                NaN  \n",
      "44249   1957-06-19                                                NaN  \n",
      "44274   2017-07-11  {'id': 173710, 'name': 'Planet of the Apes (Re...  \n",
      "44282   2017-08-04                                                NaN  \n",
      "44337   2017-07-20                                                NaN  \n",
      "44383   2014-04-17                                                NaN  \n",
      "44426   1999-11-07                                                NaN  \n",
      "44428   2008-07-03                                                NaN  \n",
      "44557   2015-02-20                                                NaN  \n",
      "44580   2006-05-26                                                NaN  \n",
      "44632   2017-07-26                                                NaN  \n",
      "44678   2017-07-19                                                NaN  \n",
      "44711   1985-05-03                                                NaN  \n",
      "44791   2017-01-18                                                NaN  \n",
      "44821   2000-07-08  {'id': 34055, 'name': 'Pokémon Collection', 'p...  \n",
      "44842   2017-06-21  {'id': 8650, 'name': 'Transformers Collection'...  \n",
      "44848   2012-12-27  {'id': 162782, 'name': 'Mommies Collection', '...  \n",
      "44850   2011-07-21                                                NaN  \n",
      "44856   2011-02-03                                                NaN  \n",
      "44970   2005-12-30                                                NaN  \n",
      "45014   2017-08-03                                                NaN  \n",
      "45139   2017-07-28                                                NaN  \n",
      "45167   2017-08-03                                                NaN  \n",
      "45250   2007-06-14                                                NaN  \n",
      "45399   2014-06-05                                                NaN  \n",
      "45409   2006-11-23                                                NaN  \n",
      "45412   2010-09-30                                                NaN  \n",
      "45422   2007-09-06                                                NaN  \n",
      "\n",
      "[5381 rows x 7 columns]\n"
     ]
    }
   ],
   "source": [
    "#query dataset based on valid revenue and valid budget\n",
    "\n",
    "#hasRevenue = metadata['revenue'] != 0\n",
    "#hasBudget  = metadata['budget'] != 0\n",
    "\n",
    "metadata = metadata.query('revenue > 0 & budget > 0')\n",
    "\n",
    "#print(metadata)"
   ]
  },
  {
   "cell_type": "code",
   "execution_count": 53,
   "metadata": {
    "collapsed": true
   },
   "outputs": [],
   "source": [
    "metadata.to_csv(\"../data/interim/only_useful_datasets.csv\")"
   ]
  },
  {
   "cell_type": "code",
   "execution_count": null,
   "metadata": {
    "collapsed": true
   },
   "outputs": [],
   "source": []
  }
 ],
 "metadata": {
  "kernelspec": {
   "display_name": "Python 3",
   "language": "python",
   "name": "python3"
  },
  "language_info": {
   "codemirror_mode": {
    "name": "ipython",
    "version": 3
   },
   "file_extension": ".py",
   "mimetype": "text/x-python",
   "name": "python",
   "nbconvert_exporter": "python",
   "pygments_lexer": "ipython3",
   "version": "3.6.2"
  }
 },
 "nbformat": 4,
 "nbformat_minor": 2
}
